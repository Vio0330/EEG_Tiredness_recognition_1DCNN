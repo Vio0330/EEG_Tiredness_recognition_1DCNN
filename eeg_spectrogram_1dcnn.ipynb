{
  "nbformat": 4,
  "nbformat_minor": 0,
  "metadata": {
    "colab": {
      "name": "R&E.ipynb",
      "provenance": [],
      "collapsed_sections": []
    },
    "kernelspec": {
      "name": "python3",
      "display_name": "Python 3"
    },
    "language_info": {
      "name": "python"
    }
  },
  "cells": [
    {
      "cell_type": "code",
      "metadata": {
        "id": "b4uek9OPiTqk"
      },
      "source": [
        "import pandas as pd\n",
        "import librosa\n",
        "import librosa.display\n",
        "import numpy as np\n",
        "import torch\n",
        "import torch.nn as nn\n",
        "import numpy as np\n",
        "import matplotlib.pyplot as plt\n",
        "import librosa.display\n",
        "import pylab\n",
        "from sklearn.model_selection import train_test_split\n",
        "from sklearn.metrics import accuracy_score\n",
        "import librosa    \n",
        "import glob\n",
        "import cv2\n",
        "import tensorflow as tf\n",
        "from tensorflow.keras.preprocessing.image import ImageDataGenerator\n",
        "from tensorflow.keras.models import Sequential\n",
        "from tensorflow.keras.layers import Dense, Dropout, Activation, Flatten\n",
        "from tensorflow.keras.layers import Conv2D, MaxPooling2D\n",
        "from tensorflow.keras.utils import to_categorical\n",
        "from keras import optimizers\n",
        "from tqdm import tqdm\n",
        "import keras\n",
        "%matplotlib inline"
      ],
      "execution_count": null,
      "outputs": []
    },
    {
      "cell_type": "code",
      "metadata": {
        "id": "X8YrnDwxiZkW",
        "colab": {
          "base_uri": "https://localhost:8080/"
        },
        "outputId": "4bf3561f-7e5e-4ff6-c8c3-6d5daaa695de"
      },
      "source": [
        "#let tired.csv exist(5s)\n",
        "import pandas as pd\n",
        "in_csv = 'na_1.csv'\n",
        "#get the number of lines of the csv file to be read\n",
        "number_lines = sum(1 for row in (open(in_csv)))\n",
        "print(number_lines)"
      ],
      "execution_count": null,
      "outputs": [
        {
          "output_type": "stream",
          "name": "stdout",
          "text": [
            "3374\n"
          ]
        }
      ]
    },
    {
      "cell_type": "code",
      "metadata": {
        "id": "TfuGhn8kTMhJ"
      },
      "source": [
        "rowsize = 40\n",
        "cnt=0\n",
        "for i in range(1,1928,rowsize):\n",
        "    df = pd.read_csv(in_csv,\n",
        "          header=None,\n",
        "          nrows = rowsize,\n",
        "          skiprows = i)\n",
        "    out_csv = 'normalstatefolder/nor' + str(cnt) + '.csv'\n",
        "    cnt=cnt+1\n",
        "    df.to_csv(out_csv,\n",
        "          index=False,\n",
        "          header=False,\n",
        "          mode='a',#append data to csv file\n",
        "          chunksize=rowsize)#size of data to append for each loop"
      ],
      "execution_count": null,
      "outputs": []
    },
    {
      "cell_type": "code",
      "metadata": {
        "colab": {
          "base_uri": "https://localhost:8080/"
        },
        "id": "9xak_xOwTzVH",
        "outputId": "934803cd-d936-4203-d6a4-dec59a6c69cb"
      },
      "source": [
        "rowsize = 40\n",
        "print(cnt)\n",
        "for i in range(1929,number_lines,rowsize):\n",
        "    df = pd.read_csv(in_csv,\n",
        "          header=None,\n",
        "          nrows = rowsize,\n",
        "          skiprows = i)\n",
        "    out_csv = 'tiredstatefolder/nor' + str(cnt) + '.csv'\n",
        "    cnt=cnt+1\n",
        "    df.to_csv(out_csv,\n",
        "          index=False,\n",
        "          header=False,\n",
        "          mode='a',#append data to csv file\n",
        "          chunksize=rowsize)#size of data to append for each loop"
      ],
      "execution_count": null,
      "outputs": [
        {
          "output_type": "stream",
          "name": "stdout",
          "text": [
            "49\n"
          ]
        }
      ]
    },
    {
      "cell_type": "code",
      "metadata": {
        "id": "pL9b_qx-i8EA"
      },
      "source": [
        "import os"
      ],
      "execution_count": null,
      "outputs": []
    },
    {
      "cell_type": "code",
      "metadata": {
        "colab": {
          "base_uri": "https://localhost:8080/"
        },
        "id": "3h7nGEoouQ76",
        "outputId": "b898fbfd-09f2-4698-9ebf-8cdb6f46ed18"
      },
      "source": [
        "%cd normalstatefolder/"
      ],
      "execution_count": null,
      "outputs": [
        {
          "output_type": "stream",
          "name": "stdout",
          "text": [
            "/content/normalstatefolder\n"
          ]
        }
      ]
    },
    {
      "cell_type": "code",
      "metadata": {
        "colab": {
          "base_uri": "https://localhost:8080/",
          "height": 1000
        },
        "id": "yto-x700thRX",
        "outputId": "fcd2e79b-7bfe-4f1f-b6f5-e28e138dc7a1"
      },
      "source": [
        "cnt=0\n",
        "for filename in tqdm(os.listdir(os.getcwd())):\n",
        "  realdata = pd.read_csv(filename,header=None,names=['time','theta'])\n",
        "  realdata=realdata.drop('time',axis=1)\n",
        "  cnt=cnt+1\n",
        "  arr=realdata.to_numpy()\n",
        "  arr=arr.squeeze(1)\n",
        "  plt.axis('off')\n",
        "  plt.specgram(arr,Fs=8)\n",
        "  if cnt==15:\n",
        "    print(realdata)\n",
        "    print(os.path.splitext(filename)[0][3:])\n",
        "  plt.savefig('../normalimg/nor'+os.path.splitext(filename)[0][3:]+'.png', bbox_inches='tight', pad_inches=0)\n",
        "  #spectrogram[int(os.path.splitext(filename)[0][3:])-1]="
      ],
      "execution_count": null,
      "outputs": [
        {
          "output_type": "stream",
          "name": "stderr",
          "text": [
            "  0%|          | 0/49 [00:00<?, ?it/s]/usr/local/lib/python3.7/dist-packages/ipykernel_launcher.py:9: UserWarning: Only one segment is calculated since parameter NFFT (=256) >= signal length (=40).\n",
            "  if __name__ == '__main__':\n",
            " 29%|██▊       | 14/49 [00:03<00:11,  3.12it/s]"
          ]
        },
        {
          "output_type": "stream",
          "name": "stdout",
          "text": [
            "         theta\n",
            "0    92.096616\n",
            "1    79.704987\n",
            "2    70.933702\n",
            "3    65.044640\n",
            "4    62.969403\n",
            "5    64.342582\n",
            "6    67.323990\n",
            "7    69.797530\n",
            "8    70.840599\n",
            "9    73.386519\n",
            "10   80.914692\n",
            "11   93.898141\n",
            "12  114.452014\n",
            "13  142.715165\n",
            "14  175.795270\n",
            "15  208.433783\n",
            "16  231.711953\n",
            "17  238.617604\n",
            "18  225.484394\n",
            "19  195.473833\n",
            "20  156.496258\n",
            "21  122.620700\n",
            "22  102.446967\n",
            "23  102.572137\n",
            "24  120.930476\n",
            "25  146.197422\n",
            "26  165.448680\n",
            "27  171.486158\n",
            "28  163.681442\n",
            "29  151.030779\n",
            "30  143.908023\n",
            "31  151.677715\n",
            "32  177.166827\n",
            "33  218.408665\n",
            "34  268.290851\n",
            "35  315.828748\n",
            "36  354.036567\n",
            "37  376.281383\n",
            "38  381.135642\n",
            "39  370.120980\n",
            "9\n"
          ]
        },
        {
          "output_type": "stream",
          "name": "stderr",
          "text": [
            "\r 31%|███       | 15/49 [00:03<00:11,  2.88it/s]/usr/local/lib/python3.7/dist-packages/ipykernel_launcher.py:9: UserWarning: Only one segment is calculated since parameter NFFT (=256) >= signal length (=40).\n",
            "  if __name__ == '__main__':\n",
            "100%|██████████| 49/49 [00:32<00:00,  1.50it/s]\n"
          ]
        },
        {
          "output_type": "display_data",
          "data": {
            "image/png": "[encoded data removed]",
            "text/plain": [
              "<Figure size 432x288 with 1 Axes>"
            ]
          },
          "metadata": {
            "needs_background": "light"
          }
        }
      ]
    },
    {
      "cell_type": "code",
      "metadata": {
        "colab": {
          "base_uri": "https://localhost:8080/"
        },
        "id": "wlQI8ygqdYar",
        "outputId": "c750d22c-beef-4cda-ce82-518f16020940"
      },
      "source": [
        "%cd ..\n",
        "%cd tiredstatefolder"
      ],
      "execution_count": null,
      "outputs": [
        {
          "output_type": "stream",
          "name": "stdout",
          "text": [
            "/content\n",
            "/content/tiredstatefolder\n"
          ]
        }
      ]
    },
    {
      "cell_type": "code",
      "metadata": {
        "colab": {
          "base_uri": "https://localhost:8080/",
          "height": 1000
        },
        "id": "9sGv-3Oxdi5Z",
        "outputId": "5847b1d9-36f4-4287-a99a-d29862dda5e8"
      },
      "source": [
        "cnt=0\n",
        "for filename in tqdm(os.listdir(os.getcwd())):\n",
        "  realdata = pd.read_csv(filename,header=None,names=['time','theta'])\n",
        "  realdata=realdata.drop('time',axis=1)\n",
        "  cnt=cnt+1\n",
        "  arr=realdata.to_numpy()\n",
        "  arr=arr.squeeze(1)\n",
        "  plt.axis('off')\n",
        "  plt.specgram(arr,Fs=0.05)\n",
        "  if cnt==15:\n",
        "    print(realdata)\n",
        "    print(os.path.splitext(filename)[0][3:])\n",
        "  plt.savefig('../tiredimg/nor'+os.path.splitext(filename)[0][3:]+'.png', bbox_inches='tight', pad_inches=0)\n",
        "  #spectrogram[int(os.path.splitext(filename)[0][3:])-1]="
      ],
      "execution_count": null,
      "outputs": [
        {
          "output_type": "stream",
          "name": "stderr",
          "text": [
            "  0%|          | 0/37 [00:00<?, ?it/s]/usr/local/lib/python3.7/dist-packages/ipykernel_launcher.py:9: UserWarning: Only one segment is calculated since parameter NFFT (=256) >= signal length (=40).\n",
            "  if __name__ == '__main__':\n",
            " 38%|███▊      | 14/37 [00:03<00:07,  3.06it/s]"
          ]
        },
        {
          "output_type": "stream",
          "name": "stdout",
          "text": [
            "          theta\n",
            "0    373.512616\n",
            "1    349.694498\n",
            "2    304.272706\n",
            "3    255.701134\n",
            "4    222.768942\n",
            "5    207.922535\n",
            "6    203.952782\n",
            "7    197.338814\n",
            "8    181.329784\n",
            "9    161.040335\n",
            "10   146.554370\n",
            "11   141.441976\n",
            "12   146.024771\n",
            "13   162.156785\n",
            "14   189.495164\n",
            "15   279.444982\n",
            "16   507.102075\n",
            "17   938.232944\n",
            "18  1534.365821\n",
            "19  2173.768760\n",
            "20  2658.776932\n",
            "21  2823.237732\n",
            "22  2614.251184\n",
            "23  2079.716084\n",
            "24  1417.676124\n",
            "25   798.013709\n",
            "26   378.509400\n",
            "27   157.101222\n",
            "28   100.079703\n",
            "29   115.334468\n",
            "30   156.700203\n",
            "31   204.109761\n",
            "32   250.177066\n",
            "33   279.986809\n",
            "34   303.309774\n",
            "35   321.245155\n",
            "36   340.236524\n",
            "37   356.895561\n",
            "38   357.193169\n",
            "39   338.367834\n",
            "63\n"
          ]
        },
        {
          "output_type": "stream",
          "name": "stderr",
          "text": [
            "\r 41%|████      | 15/37 [00:03<00:07,  2.79it/s]/usr/local/lib/python3.7/dist-packages/ipykernel_launcher.py:9: UserWarning: Only one segment is calculated since parameter NFFT (=256) >= signal length (=40).\n",
            "  if __name__ == '__main__':\n",
            " 57%|█████▋    | 21/37 [00:06<00:08,  1.94it/s]/usr/local/lib/python3.7/dist-packages/ipykernel_launcher.py:9: UserWarning: Only one segment is calculated since parameter NFFT (=256) >= signal length (=5).\n",
            "  if __name__ == '__main__':\n",
            "100%|██████████| 37/37 [00:19<00:00,  1.91it/s]\n"
          ]
        },
        {
          "output_type": "display_data",
          "data": {
            "image/png": "[encoded data removed]",
            "text/plain": [
              "<Figure size 432x288 with 1 Axes>"
            ]
          },
          "metadata": {
            "needs_background": "light"
          }
        }
      ]
    },
    {
      "cell_type": "code",
      "metadata": {
        "colab": {
          "base_uri": "https://localhost:8080/"
        },
        "id": "CSemu4kSjlvc",
        "outputId": "3bd6d36d-7d1a-43f6-ea0d-82ab5aecd1af"
      },
      "source": [
        "%cd ..\n",
        "%cd normalimg"
      ],
      "execution_count": null,
      "outputs": [
        {
          "output_type": "stream",
          "name": "stdout",
          "text": [
            "/content\n",
            "/content/normalimg\n"
          ]
        }
      ]
    },
    {
      "cell_type": "code",
      "metadata": {
        "id": "v5zN4xvHkOUM"
      },
      "source": [
        "IMAGE_SIZE = (150, 150)"
      ],
      "execution_count": null,
      "outputs": []
    },
    {
      "cell_type": "code",
      "metadata": {
        "colab": {
          "base_uri": "https://localhost:8080/"
        },
        "id": "XHj7xpXsuV-V",
        "outputId": "5353abf0-76c1-44ed-dfa5-8853076d3385"
      },
      "source": [
        "output = []\n",
        "images = []\n",
        "labels = []\n",
        "for filename in tqdm(os.listdir(os.getcwd())):\n",
        "  label=0\n",
        "  image = cv2.imread(filename)\n",
        "  image = cv2.cvtColor(image, cv2.COLOR_BGR2RGB)\n",
        "  image = cv2.resize(image, IMAGE_SIZE) \n",
        "  images.append(image)\n",
        "  labels.append(label)"
      ],
      "execution_count": null,
      "outputs": [
        {
          "output_type": "stream",
          "name": "stderr",
          "text": [
            "100%|██████████| 49/49 [00:00<00:00, 476.03it/s]\n"
          ]
        }
      ]
    },
    {
      "cell_type": "code",
      "metadata": {
        "id": "PfOkv1VV8yT4",
        "colab": {
          "base_uri": "https://localhost:8080/"
        },
        "outputId": "8a58852a-b950-4784-fb9a-b51c004d3ed2"
      },
      "source": [
        "%cd ..\n",
        "%cd tiredimg"
      ],
      "execution_count": null,
      "outputs": [
        {
          "output_type": "stream",
          "name": "stdout",
          "text": [
            "/content\n",
            "/content/tiredimg\n"
          ]
        }
      ]
    },
    {
      "cell_type": "code",
      "metadata": {
        "colab": {
          "base_uri": "https://localhost:8080/"
        },
        "id": "4w9pPUKKk8pE",
        "outputId": "77346bb9-98cb-4910-9fbd-3ef7df99c94f"
      },
      "source": [
        "for filename in tqdm(os.listdir(os.getcwd())):\n",
        "  label=1\n",
        "  image = cv2.imread(filename)\n",
        "  image = cv2.cvtColor(image, cv2.COLOR_BGR2RGB)\n",
        "  image = cv2.resize(image, IMAGE_SIZE) \n",
        "  images.append(image)\n",
        "  labels.append(label)"
      ],
      "execution_count": null,
      "outputs": [
        {
          "output_type": "stream",
          "name": "stderr",
          "text": [
            "100%|██████████| 37/37 [00:00<00:00, 736.10it/s]\n"
          ]
        }
      ]
    },
    {
      "cell_type": "code",
      "metadata": {
        "id": "yRAbQTznoRvI"
      },
      "source": [
        "images=np.array(images)"
      ],
      "execution_count": null,
      "outputs": []
    },
    {
      "cell_type": "code",
      "metadata": {
        "colab": {
          "base_uri": "https://localhost:8080/"
        },
        "id": "5zXfGw62ogj7",
        "outputId": "10f83ca7-04f2-43b0-e3ec-997c3f45012e"
      },
      "source": [
        "images.shape"
      ],
      "execution_count": null,
      "outputs": [
        {
          "output_type": "execute_result",
          "data": {
            "text/plain": [
              "(86, 150, 150, 3)"
            ]
          },
          "metadata": {},
          "execution_count": 63
        }
      ]
    },
    {
      "cell_type": "code",
      "metadata": {
        "id": "jZynSGDpqoda"
      },
      "source": [
        "\n",
        "images = images.astype(\"float32\")\n",
        "images /= 255."
      ],
      "execution_count": null,
      "outputs": []
    },
    {
      "cell_type": "code",
      "metadata": {
        "colab": {
          "base_uri": "https://localhost:8080/"
        },
        "id": "N4sxkIeuqdY9",
        "outputId": "1378c0a7-0e7d-4de0-8b85-04e21e975ada"
      },
      "source": [
        "labels=np.array(labels)\n",
        "labels.shape"
      ],
      "execution_count": null,
      "outputs": [
        {
          "output_type": "execute_result",
          "data": {
            "text/plain": [
              "(86,)"
            ]
          },
          "metadata": {},
          "execution_count": 65
        }
      ]
    },
    {
      "cell_type": "code",
      "metadata": {
        "id": "FxKm9j2Iscds"
      },
      "source": [
        "labels = tf.keras.utils.to_categorical(labels, num_classes=2)"
      ],
      "execution_count": null,
      "outputs": []
    },
    {
      "cell_type": "code",
      "metadata": {
        "id": "kKrPAkfMk-Yi"
      },
      "source": [
        "X_train, X_test, y_train, y_test = train_test_split(images, labels, shuffle=True, test_size=0.20, random_state=1)"
      ],
      "execution_count": null,
      "outputs": []
    },
    {
      "cell_type": "code",
      "metadata": {
        "id": "2S77CzlYmmPO"
      },
      "source": [
        "\n",
        "model = Sequential()\n",
        "\n",
        "model.add(Conv2D(32, (3, 3), padding=\"same\", activation=\"relu\", input_shape=X_train.shape[1:]))\n",
        "model.add(Conv2D(32, (3, 3), activation=\"relu\"))\n",
        "model.add(MaxPooling2D(pool_size=(2)))\n",
        "model.add(Dropout(0.25))\n",
        "\n",
        "model.add(Conv2D(64, (3, 3), padding=\"same\", activation=\"relu\"))\n",
        "model.add(Conv2D(64, (3, 3), activation=\"relu\"))\n",
        "model.add(MaxPooling2D(pool_size=(2)))\n",
        "model.add(Dropout(0.25))\n",
        "\n",
        "model.add(Flatten())\n",
        "model.add(Dense(1024, activation=\"relu\"))\n",
        "model.add(Dropout(0.5))\n",
        "model.add(Dense(512, activation=\"relu\"))\n",
        "model.add(Dropout(0.5))\n",
        "model.add(Dense(2, activation=\"softmax\"))"
      ],
      "execution_count": null,
      "outputs": []
    },
    {
      "cell_type": "code",
      "metadata": {
        "colab": {
          "base_uri": "https://localhost:8080/"
        },
        "id": "Z4DanBwuqRUl",
        "outputId": "dab0276f-0b1c-48a2-d5ac-f468a23c62dd"
      },
      "source": [
        "model.summary()"
      ],
      "execution_count": null,
      "outputs": [
        {
          "output_type": "stream",
          "name": "stdout",
          "text": [
            "Model: \"sequential_4\"\n",
            "_________________________________________________________________\n",
            " Layer (type)                Output Shape              Param #   \n",
            "=================================================================\n",
            " conv2d (Conv2D)             (None, 150, 150, 32)      896       \n",
            "                                                                 \n",
            " conv2d_1 (Conv2D)           (None, 148, 148, 32)      9248      \n",
            "                                                                 \n",
            " max_pooling2d (MaxPooling2D  (None, 74, 74, 32)       0         \n",
            " )                                                               \n",
            "                                                                 \n",
            " dropout_6 (Dropout)         (None, 74, 74, 32)        0         \n",
            "                                                                 \n",
            " conv2d_2 (Conv2D)           (None, 74, 74, 64)        18496     \n",
            "                                                                 \n",
            " conv2d_3 (Conv2D)           (None, 72, 72, 64)        36928     \n",
            "                                                                 \n",
            " max_pooling2d_1 (MaxPooling  (None, 36, 36, 64)       0         \n",
            " 2D)                                                             \n",
            "                                                                 \n",
            " dropout_7 (Dropout)         (None, 36, 36, 64)        0         \n",
            "                                                                 \n",
            " flatten (Flatten)           (None, 82944)             0         \n",
            "                                                                 \n",
            " dense_4 (Dense)             (None, 1024)              84935680  \n",
            "                                                                 \n",
            " dropout_8 (Dropout)         (None, 1024)              0         \n",
            "                                                                 \n",
            " dense_5 (Dense)             (None, 512)               524800    \n",
            "                                                                 \n",
            " dropout_9 (Dropout)         (None, 512)               0         \n",
            "                                                                 \n",
            " dense_6 (Dense)             (None, 2)                 1026      \n",
            "                                                                 \n",
            "=================================================================\n",
            "Total params: 85,527,074\n",
            "Trainable params: 85,527,074\n",
            "Non-trainable params: 0\n",
            "_________________________________________________________________\n"
          ]
        }
      ]
    },
    {
      "cell_type": "code",
      "metadata": {
        "colab": {
          "base_uri": "https://localhost:8080/"
        },
        "id": "rxqN8Nv-q_XM",
        "outputId": "6a679ce9-6c74-4cd6-f062-3aded71f2069"
      },
      "source": [
        "from tensorflow.keras import optimizers\n",
        "epochs = 10\n",
        "batch_size = 128\n",
        "lr = 0.001\n",
        "decay = 1e-6\n",
        "\n",
        "optimizer = optimizers.RMSprop(lr=lr, decay=decay)\n",
        "model.compile(optimizer=optimizer, loss=\"categorical_crossentropy\", metrics=[\"accuracy\"])"
      ],
      "execution_count": null,
      "outputs": [
        {
          "output_type": "stream",
          "name": "stderr",
          "text": [
            "/usr/local/lib/python3.7/dist-packages/keras/optimizer_v2/rmsprop.py:130: UserWarning: The `lr` argument is deprecated, use `learning_rate` instead.\n",
            "  super(RMSprop, self).__init__(name, **kwargs)\n"
          ]
        }
      ]
    },
    {
      "cell_type": "code",
      "metadata": {
        "colab": {
          "base_uri": "https://localhost:8080/"
        },
        "id": "57y1zl9ZrEZv",
        "outputId": "dd216b80-2ac5-4fd5-aad3-b1b59f81a748"
      },
      "source": [
        "history = model.fit(\n",
        "    np.array(X_train), \n",
        "    np.array(y_train), \n",
        "    batch_size=batch_size, \n",
        "    epochs=epochs, validation_data=(np.array(X_test), np.array(y_test)), \n",
        "    shuffle=True, \n",
        "    verbose=2\n",
        ")"
      ],
      "execution_count": null,
      "outputs": [
        {
          "output_type": "stream",
          "name": "stdout",
          "text": [
            "Epoch 1/10\n",
            "1/1 - 9s - loss: 32.0450 - accuracy: 0.4118 - val_loss: 0.6930 - val_accuracy: 0.5000 - 9s/epoch - 9s/step\n",
            "Epoch 2/10\n",
            "1/1 - 8s - loss: 0.6875 - accuracy: 0.6912 - val_loss: 0.6947 - val_accuracy: 0.5000 - 8s/epoch - 8s/step\n",
            "Epoch 3/10\n",
            "1/1 - 8s - loss: 0.6807 - accuracy: 0.5882 - val_loss: 0.6981 - val_accuracy: 0.5000 - 8s/epoch - 8s/step\n",
            "Epoch 4/10\n",
            "1/1 - 8s - loss: 0.6933 - accuracy: 0.5735 - val_loss: 0.6931 - val_accuracy: 0.5000 - 8s/epoch - 8s/step\n",
            "Epoch 5/10\n",
            "1/1 - 8s - loss: 0.6875 - accuracy: 0.5588 - val_loss: 0.6902 - val_accuracy: 0.5556 - 8s/epoch - 8s/step\n",
            "Epoch 6/10\n",
            "1/1 - 8s - loss: 0.6731 - accuracy: 0.6029 - val_loss: 0.7029 - val_accuracy: 0.5000 - 8s/epoch - 8s/step\n",
            "Epoch 7/10\n",
            "1/1 - 8s - loss: 0.6953 - accuracy: 0.5882 - val_loss: 0.6864 - val_accuracy: 0.6111 - 8s/epoch - 8s/step\n",
            "Epoch 8/10\n",
            "1/1 - 8s - loss: 0.6892 - accuracy: 0.4559 - val_loss: 0.6934 - val_accuracy: 0.5000 - 8s/epoch - 8s/step\n",
            "Epoch 9/10\n",
            "1/1 - 8s - loss: 0.6821 - accuracy: 0.6176 - val_loss: 0.6930 - val_accuracy: 0.5000 - 8s/epoch - 8s/step\n",
            "Epoch 10/10\n",
            "1/1 - 8s - loss: 0.6668 - accuracy: 0.6176 - val_loss: 0.6911 - val_accuracy: 0.5556 - 8s/epoch - 8s/step\n"
          ]
        }
      ]
    },
    {
      "cell_type": "code",
      "metadata": {
        "colab": {
          "base_uri": "https://localhost:8080/",
          "height": 279
        },
        "id": "CX-Jkz_GrSto",
        "outputId": "e318205c-fbeb-4e86-bfa3-590a2a93bfe0"
      },
      "source": [
        "plt.plot(history.history['val_loss'],label='val_loss')\n",
        "plt.plot(history.history['val_accuracy'],label='val_accuracy')\n",
        "plt.xlabel('epoch')\n",
        "plt.legend(['val_loss', 'val_acc'])\n",
        "plt.savefig('trashval.png')"
      ],
      "execution_count": null,
      "outputs": [
        {
          "output_type": "display_data",
          "data": {
            "image/png": "[encoded data removed]",
            "text/plain": [
              "<Figure size 432x288 with 1 Axes>"
            ]
          },
          "metadata": {
            "needs_background": "light"
          }
        }
      ]
    },
    {
      "cell_type": "code",
      "metadata": {
        "colab": {
          "base_uri": "https://localhost:8080/",
          "height": 279
        },
        "id": "QQw25amEoR0N",
        "outputId": "b86c0362-c064-4c4c-a756-94ad16d2b23f"
      },
      "source": [
        "plt.plot(history.history['loss'][2:],label='loss')\n",
        "plt.plot(history.history['accuracy'][2:],label='accuracy')\n",
        "plt.xlabel('epoch')\n",
        "plt.legend(['loss', 'acc'])\n",
        "plt.savefig('trash.png')"
      ],
      "execution_count": null,
      "outputs": [
        {
          "output_type": "display_data",
          "data": {
            "image/png": "[encoded data removed]",
            "text/plain": [
              "<Figure size 432x288 with 1 Axes>"
            ]
          },
          "metadata": {
            "needs_background": "light"
          }
        }
      ]
    },
    {
      "cell_type": "markdown",
      "metadata": {
        "id": "29M0J1osyQaK"
      },
      "source": [
        "--------------------1D CNN---------------"
      ]
    },
    {
      "cell_type": "code",
      "metadata": {
        "colab": {
          "base_uri": "https://localhost:8080/"
        },
        "id": "vVkYvz_kySbq",
        "outputId": "e7c252ea-36e2-4ba9-952c-68ecbd27f414"
      },
      "source": [
        "#let tired.csv exist(5s)\n",
        "import pandas as pd\n",
        "in_csv = 'no_2.csv'\n",
        "#get the number of lines of the csv file to be read\n",
        "number_lines = sum(1 for row in (open(in_csv)))\n",
        "print(number_lines)"
      ],
      "execution_count": 78,
      "outputs": [
        {
          "output_type": "stream",
          "name": "stdout",
          "text": [
            "3610\n"
          ]
        }
      ]
    },
    {
      "cell_type": "code",
      "metadata": {
        "id": "BicHkXtRzA6n"
      },
      "source": [
        "realdata = pd.read_csv(in_csv,header=None,names=['time','theta'])\n",
        "realdata=realdata.drop('time',axis=1)\n",
        "arr=realdata.to_numpy()\n",
        "arr=arr.squeeze(1)"
      ],
      "execution_count": 79,
      "outputs": []
    },
    {
      "cell_type": "code",
      "metadata": {
        "id": "iLlzPR4SyY8j"
      },
      "source": [
        "bat_length=40"
      ],
      "execution_count": 80,
      "outputs": []
    },
    {
      "cell_type": "code",
      "metadata": {
        "id": "3QbhUwLtyhU1"
      },
      "source": [
        "cp=2062\n",
        "cp2=2072"
      ],
      "execution_count": 81,
      "outputs": []
    },
    {
      "cell_type": "code",
      "metadata": {
        "id": "8h4ZnZL_ypp3"
      },
      "source": [
        "data=[]\n",
        "labels=[]\n",
        "for i in range (0,cp):\n",
        "  data.append(arr[i:i+bat_length])\n",
        "  labels.append(0)\n",
        "for i in range(cp2,number_lines-bat_length):\n",
        "  data.append(arr[i:i+bat_length])\n",
        "  labels.append(1)"
      ],
      "execution_count": 82,
      "outputs": []
    },
    {
      "cell_type": "code",
      "metadata": {
        "id": "GdNGGg1i1Qh4"
      },
      "source": [
        "#labels = tf.keras.utils.to_categorical(labels, num_classes=2)"
      ],
      "execution_count": null,
      "outputs": []
    },
    {
      "cell_type": "code",
      "metadata": {
        "id": "bVsN-EvSzwpf"
      },
      "source": [
        "X_train, X_test, y_train, y_test = train_test_split(data, labels, shuffle=True, test_size=0.20, random_state=1)"
      ],
      "execution_count": 83,
      "outputs": []
    },
    {
      "cell_type": "code",
      "metadata": {
        "id": "Xym4lrKFzxNR"
      },
      "source": [
        "X_train=np.array(X_train)\n",
        "X_test=np.array(X_test)\n",
        "y_train=np.array(y_train)\n",
        "y_test=np.array(y_test)"
      ],
      "execution_count": 84,
      "outputs": []
    },
    {
      "cell_type": "code",
      "metadata": {
        "colab": {
          "base_uri": "https://localhost:8080/"
        },
        "id": "J4T-Lekq00VU",
        "outputId": "4626f4d3-4230-4147-ccdd-f17083d3a981"
      },
      "source": [
        "labels[1]"
      ],
      "execution_count": 85,
      "outputs": [
        {
          "output_type": "execute_result",
          "data": {
            "text/plain": [
              "0"
            ]
          },
          "metadata": {},
          "execution_count": 85
        }
      ]
    },
    {
      "cell_type": "code",
      "metadata": {
        "colab": {
          "base_uri": "https://localhost:8080/",
          "height": 283
        },
        "id": "MeK7F9z95kve",
        "outputId": "097b2898-f36a-49ce-d866-634e22ef5851"
      },
      "source": [
        "plt.plot(X_train[2])"
      ],
      "execution_count": null,
      "outputs": [
        {
          "output_type": "execute_result",
          "data": {
            "text/plain": [
              "[<matplotlib.lines.Line2D at 0x7f0160187890>]"
            ]
          },
          "metadata": {},
          "execution_count": 10
        },
        {
          "output_type": "display_data",
          "data": {
            "image/png": "[encoded data removed]",
            "text/plain": [
              "<Figure size 432x288 with 1 Axes>"
            ]
          },
          "metadata": {
            "needs_background": "light"
          }
        }
      ]
    },
    {
      "cell_type": "code",
      "metadata": {
        "colab": {
          "base_uri": "https://localhost:8080/"
        },
        "id": "BQfZklpl51MY",
        "outputId": "7c47c37a-3257-48a1-b8f9-b53f99a92950"
      },
      "source": [
        "y_train[:10]"
      ],
      "execution_count": 86,
      "outputs": [
        {
          "output_type": "execute_result",
          "data": {
            "text/plain": [
              "array([0, 0, 0, 0, 0, 1, 0, 1, 0, 1])"
            ]
          },
          "metadata": {},
          "execution_count": 86
        }
      ]
    },
    {
      "cell_type": "code",
      "metadata": {
        "id": "7qPgbHYH1sLA"
      },
      "source": [
        "from tensorflow.keras.models import Sequential\n",
        "from tensorflow.keras.layers import Embedding, Dropout, Conv1D, GlobalMaxPooling1D, Dense\n",
        "from tensorflow.keras.callbacks import EarlyStopping, ModelCheckpoint\n",
        "from tensorflow.keras.models import load_model"
      ],
      "execution_count": 87,
      "outputs": []
    },
    {
      "cell_type": "code",
      "metadata": {
        "id": "UbMNfS2u1S6y"
      },
      "source": [
        "embedding_dim = 256\n",
        "dropout_ratio = 0.3\n",
        "num_filters = 256\n",
        "kernel_size = 3\n",
        "hidden_units = 128\n",
        "vocab_size=33740\n",
        "\n",
        "model = Sequential()\n",
        "model.add(Embedding(vocab_size, embedding_dim))\n",
        "model.add(Dropout(dropout_ratio))\n",
        "model.add(Conv1D(num_filters, kernel_size, padding='valid', activation='relu'))\n",
        "model.add(GlobalMaxPooling1D())\n",
        "model.add(Dense(hidden_units, activation='relu'))\n",
        "model.add(Dropout(dropout_ratio))\n",
        "model.add(Dense(1, activation='sigmoid'))"
      ],
      "execution_count": 88,
      "outputs": []
    },
    {
      "cell_type": "code",
      "metadata": {
        "id": "m47fkBiJ1n9Z",
        "colab": {
          "base_uri": "https://localhost:8080/"
        },
        "outputId": "d0b68c4b-e2f0-46a8-b599-098eccc02475"
      },
      "source": [
        "model.summary()"
      ],
      "execution_count": 89,
      "outputs": [
        {
          "output_type": "stream",
          "name": "stdout",
          "text": [
            "Model: \"sequential_1\"\n",
            "_________________________________________________________________\n",
            " Layer (type)                Output Shape              Param #   \n",
            "=================================================================\n",
            " embedding_1 (Embedding)     (None, None, 256)         8637440   \n",
            "                                                                 \n",
            " dropout_2 (Dropout)         (None, None, 256)         0         \n",
            "                                                                 \n",
            " conv1d_1 (Conv1D)           (None, None, 256)         196864    \n",
            "                                                                 \n",
            " global_max_pooling1d_1 (Glo  (None, 256)              0         \n",
            " balMaxPooling1D)                                                \n",
            "                                                                 \n",
            " dense_2 (Dense)             (None, 128)               32896     \n",
            "                                                                 \n",
            " dropout_3 (Dropout)         (None, 128)               0         \n",
            "                                                                 \n",
            " dense_3 (Dense)             (None, 1)                 129       \n",
            "                                                                 \n",
            "=================================================================\n",
            "Total params: 8,867,329\n",
            "Trainable params: 8,867,329\n",
            "Non-trainable params: 0\n",
            "_________________________________________________________________\n"
          ]
        }
      ]
    },
    {
      "cell_type": "code",
      "metadata": {
        "id": "WwqWoz-B6zvb"
      },
      "source": [
        "es = EarlyStopping(monitor = 'val_loss', mode = 'min', verbose = 1, patience = 3)\n",
        "mc = ModelCheckpoint('best_model.h5', monitor = 'val_acc', mode = 'max', verbose = 1, save_best_only = True)"
      ],
      "execution_count": 90,
      "outputs": []
    },
    {
      "cell_type": "code",
      "metadata": {
        "colab": {
          "base_uri": "https://localhost:8080/"
        },
        "id": "myCe_F6u6z-u",
        "outputId": "ecf87bfc-a083-4c92-9b9a-c28213a01e36"
      },
      "source": [
        "model.compile(optimizer='adam', loss = 'binary_crossentropy', metrics = ['acc'])\n",
        "history = model.fit(X_train, y_train, epochs = 4, validation_data = (X_test, y_test), callbacks=[es, mc])"
      ],
      "execution_count": 91,
      "outputs": [
        {
          "output_type": "stream",
          "name": "stdout",
          "text": [
            "Epoch 1/4\n",
            "89/89 [==============================] - ETA: 0s - loss: 0.4666 - acc: 0.7855\n",
            "Epoch 00001: val_acc improved from -inf to 0.98596, saving model to best_model.h5\n",
            "89/89 [==============================] - 13s 144ms/step - loss: 0.4666 - acc: 0.7855 - val_loss: 0.1152 - val_acc: 0.9860\n",
            "Epoch 2/4\n",
            "89/89 [==============================] - ETA: 0s - loss: 0.0556 - acc: 0.9902\n",
            "Epoch 00002: val_acc improved from 0.98596 to 1.00000, saving model to best_model.h5\n",
            "89/89 [==============================] - 13s 143ms/step - loss: 0.0556 - acc: 0.9902 - val_loss: 0.0107 - val_acc: 1.0000\n",
            "Epoch 3/4\n",
            "89/89 [==============================] - ETA: 0s - loss: 0.0123 - acc: 0.9972\n",
            "Epoch 00003: val_acc did not improve from 1.00000\n",
            "89/89 [==============================] - 12s 140ms/step - loss: 0.0123 - acc: 0.9972 - val_loss: 0.0030 - val_acc: 1.0000\n",
            "Epoch 4/4\n",
            "89/89 [==============================] - ETA: 0s - loss: 0.0040 - acc: 0.9993\n",
            "Epoch 00004: val_acc did not improve from 1.00000\n",
            "89/89 [==============================] - 12s 139ms/step - loss: 0.0040 - acc: 0.9993 - val_loss: 0.0013 - val_acc: 1.0000\n"
          ]
        }
      ]
    },
    {
      "cell_type": "code",
      "metadata": {
        "id": "eVc9Tm9Pu7yZ"
      },
      "source": [
        "res=model.predict(X_train[:10])"
      ],
      "execution_count": 92,
      "outputs": []
    },
    {
      "cell_type": "code",
      "metadata": {
        "colab": {
          "base_uri": "https://localhost:8080/"
        },
        "id": "edsqKnBy-Spd",
        "outputId": "e20c513a-408b-4d95-ef03-57b2cc4a2032"
      },
      "source": [
        "X_train.shape"
      ],
      "execution_count": 109,
      "outputs": [
        {
          "output_type": "execute_result",
          "data": {
            "text/plain": [
              "(2848, 40)"
            ]
          },
          "metadata": {},
          "execution_count": 109
        }
      ]
    },
    {
      "cell_type": "code",
      "metadata": {
        "colab": {
          "base_uri": "https://localhost:8080/"
        },
        "id": "SJhW3UUf7y91",
        "outputId": "d97dafea-6321-4e2d-bc40-c72ced918dd8"
      },
      "source": [
        "X_train[0]"
      ],
      "execution_count": 71,
      "outputs": [
        {
          "output_type": "execute_result",
          "data": {
            "text/plain": [
              "array([206.3526  , 380.833694, 587.947422, 768.483478, 862.843856,\n",
              "       838.189314, 706.017887, 514.789096, 327.328682, 191.929924,\n",
              "       123.939587, 106.889224, 108.481592, 105.067802,  90.38024 ,\n",
              "        68.520362,  46.31989 ,  29.368377,  19.73364 ,  16.045289,\n",
              "        15.565019,  15.8437  ,  16.757034,  18.138315,  20.49158 ,\n",
              "        23.342586,  25.906141,  27.375751,  26.892294,  24.522623,\n",
              "        21.083582,  17.711926,  15.420213,  14.670488,  15.501348,\n",
              "        17.465825,  19.564149,  21.391941,  22.808575,  24.077868])"
            ]
          },
          "metadata": {},
          "execution_count": 71
        }
      ]
    },
    {
      "cell_type": "code",
      "metadata": {
        "id": "AFtqdoYd2jJa"
      },
      "source": [
        "result=[]\n",
        "for r in res:\n",
        "  if r>5e-1:\n",
        "    result.append(1)\n",
        "  else:\n",
        "    result.append(0)"
      ],
      "execution_count": 93,
      "outputs": []
    },
    {
      "cell_type": "code",
      "metadata": {
        "colab": {
          "base_uri": "https://localhost:8080/"
        },
        "id": "gXLB488q2uDl",
        "outputId": "02d78c3d-86a1-4ea1-c5b8-516c92263223"
      },
      "source": [
        "result"
      ],
      "execution_count": 94,
      "outputs": [
        {
          "output_type": "execute_result",
          "data": {
            "text/plain": [
              "[0, 0, 0, 0, 0, 1, 0, 1, 0, 1]"
            ]
          },
          "metadata": {},
          "execution_count": 94
        }
      ]
    },
    {
      "cell_type": "code",
      "metadata": {
        "colab": {
          "base_uri": "https://localhost:8080/"
        },
        "id": "dxRU4UNb2OSW",
        "outputId": "321058de-47a0-4c10-9ce3-7fd514941eb1"
      },
      "source": [
        "y_train[:10]"
      ],
      "execution_count": 28,
      "outputs": [
        {
          "output_type": "execute_result",
          "data": {
            "text/plain": [
              "array([0, 0, 0, 0, 0, 1, 0, 1, 0, 1])"
            ]
          },
          "metadata": {},
          "execution_count": 28
        }
      ]
    },
    {
      "cell_type": "markdown",
      "metadata": {
        "id": "yqPImjOF3DD1"
      },
      "source": [
        "노강민 학습에 김나림 데이터 넣기"
      ]
    },
    {
      "cell_type": "code",
      "metadata": {
        "colab": {
          "base_uri": "https://localhost:8080/"
        },
        "id": "AQs4jJHj3HEz",
        "outputId": "3c6ece9f-d0b6-406e-d709-5e13d9f425f8"
      },
      "source": [
        "#let tired.csv exist(5s)\n",
        "import pandas as pd\n",
        "in2_csv = 'na_1.csv'\n",
        "#get the number of lines of the csv file to be read\n",
        "number_lines = sum(1 for row in (open(in2_csv)))\n",
        "print(number_lines)"
      ],
      "execution_count": 55,
      "outputs": [
        {
          "output_type": "stream",
          "name": "stdout",
          "text": [
            "3374\n"
          ]
        }
      ]
    },
    {
      "cell_type": "code",
      "metadata": {
        "id": "qpy6npTI3VrG"
      },
      "source": [
        "realdata2 = pd.read_csv(in_csv,header=None,names=['time','theta'])\n",
        "realdata2=realdata2.drop('time',axis=1)\n",
        "arr2=realdata2.to_numpy()\n",
        "arr2=arr2.squeeze(1)"
      ],
      "execution_count": 56,
      "outputs": []
    },
    {
      "cell_type": "code",
      "metadata": {
        "id": "lx7EtXeg3cT_"
      },
      "source": [
        "cp_n=1920\n",
        "cp_n2=1930"
      ],
      "execution_count": 57,
      "outputs": []
    },
    {
      "cell_type": "code",
      "metadata": {
        "id": "1kul9-fk3qde"
      },
      "source": [
        "data2=[]\n",
        "labels2=[]\n",
        "for i in range (0,cp_n):\n",
        "  data2.append(arr2[i:i+bat_length])\n",
        "  labels2.append(0)\n",
        "for i in range(cp_n2,number_lines-bat_length):\n",
        "  data2.append(arr2[i:i+bat_length])\n",
        "  labels2.append(1)"
      ],
      "execution_count": 58,
      "outputs": []
    },
    {
      "cell_type": "code",
      "metadata": {
        "id": "2MzkRVlc36YO"
      },
      "source": [
        "X_train2, X_test2, y_train2, y_test2 = train_test_split(data2, labels2, shuffle=True, test_size=0.99, random_state=1)"
      ],
      "execution_count": 59,
      "outputs": []
    },
    {
      "cell_type": "code",
      "metadata": {
        "colab": {
          "base_uri": "https://localhost:8080/"
        },
        "id": "j7hhCFjU61md",
        "outputId": "3fb8d518-736a-4556-b124-7651001cf2ee"
      },
      "source": [
        "X_train2[0]"
      ],
      "execution_count": 60,
      "outputs": [
        {
          "output_type": "execute_result",
          "data": {
            "text/plain": [
              "array([ 9.500233,  9.171309,  8.410605,  7.442977,  6.53041 ,  5.978797,\n",
              "        5.917247,  6.49141 ,  7.698695,  9.32635 , 11.123217, 12.835374,\n",
              "       14.308576, 15.415013, 16.288113, 16.916796, 17.191111, 16.900758,\n",
              "       15.94825 , 14.49365 , 13.025842, 12.253571, 12.927161, 15.054062,\n",
              "       18.840762, 23.375171, 27.533156, 30.776231, 31.926397, 31.666043,\n",
              "       30.065349, 28.696203, 30.579607, 38.76322 , 53.337026, 70.739238,\n",
              "       87.27658 , 94.816886, 93.215856, 80.836715])"
            ]
          },
          "metadata": {},
          "execution_count": 60
        }
      ]
    },
    {
      "cell_type": "code",
      "metadata": {
        "id": "C5mIOEyk4E1C"
      },
      "source": [
        "X_train2=np.array(X_train2)\n",
        "X_test2=np.array(X_test2)\n",
        "y_train2=np.array(y_train2)\n",
        "y_test2=np.array(y_test2)"
      ],
      "execution_count": 61,
      "outputs": []
    },
    {
      "cell_type": "code",
      "metadata": {
        "colab": {
          "base_uri": "https://localhost:8080/"
        },
        "id": "T-nFyf_A4W35",
        "outputId": "615d3ca4-644e-4b15-ffd9-e43ded1ebab2"
      },
      "source": [
        "loss, mse = model.evaluate(X_test2, y_test2, batch_size=1)\n",
        "print('acc : ', mse)"
      ],
      "execution_count": 62,
      "outputs": [
        {
          "output_type": "stream",
          "name": "stdout",
          "text": [
            "3291/3291 [==============================] - 9s 3ms/step - loss: 0.4730 - acc: 0.9559\n",
            "acc :  0.9559404253959656\n"
          ]
        }
      ]
    },
    {
      "cell_type": "markdown",
      "metadata": {
        "id": "JAMcRBKi5pdG"
      },
      "source": [
        "---이현민 측정---"
      ]
    },
    {
      "cell_type": "code",
      "metadata": {
        "colab": {
          "base_uri": "https://localhost:8080/"
        },
        "id": "VIySJPPB5sjN",
        "outputId": "e1c0ef78-48db-41bf-bcd2-40cb8d07e7db"
      },
      "source": [
        "in3_csv = 'le_1.csv'\n",
        "#get the number of lines of the csv file to be read\n",
        "number_lines = sum(1 for row in (open(in3_csv)))\n",
        "print(number_lines)"
      ],
      "execution_count": 110,
      "outputs": [
        {
          "output_type": "stream",
          "name": "stdout",
          "text": [
            "5100\n"
          ]
        }
      ]
    },
    {
      "cell_type": "code",
      "metadata": {
        "id": "rphN-lFR5v6B"
      },
      "source": [
        "realdata3 = pd.read_csv(in3_csv,header=None,names=['time','theta'])\n",
        "realdata3=realdata3.drop('time',axis=1)\n",
        "arr3=realdata3.to_numpy()\n",
        "arr3=arr3.squeeze(1)"
      ],
      "execution_count": 111,
      "outputs": []
    },
    {
      "cell_type": "code",
      "metadata": {
        "id": "xe2iF4r85yYA"
      },
      "source": [
        "cnt=0\n",
        "testdata=[]\n",
        "for i in range(0,number_lines-bat_length):\n",
        "  testdata.append(arr3[i:i+bat_length])\n",
        "testdata[0]\n",
        "testdata=np.array(testdata)"
      ],
      "execution_count": 112,
      "outputs": []
    },
    {
      "cell_type": "code",
      "metadata": {
        "id": "3Pv6eVSO7kGk"
      },
      "source": [
        "X_train3, X_test3= train_test_split(testdata, shuffle=True, test_size=0.99, random_state=1)"
      ],
      "execution_count": 113,
      "outputs": []
    },
    {
      "cell_type": "code",
      "metadata": {
        "id": "6rlZp3Nk8Vn4"
      },
      "source": [
        "X_test3=np.array(X_test3)"
      ],
      "execution_count": 114,
      "outputs": []
    },
    {
      "cell_type": "code",
      "metadata": {
        "colab": {
          "base_uri": "https://localhost:8080/"
        },
        "id": "o94Qybxf-HF_",
        "outputId": "e9fbf7bd-4bcd-443b-e47b-1873579e4f36"
      },
      "source": [
        "X_test3.shape"
      ],
      "execution_count": 115,
      "outputs": [
        {
          "output_type": "execute_result",
          "data": {
            "text/plain": [
              "(5010, 40)"
            ]
          },
          "metadata": {},
          "execution_count": 115
        }
      ]
    },
    {
      "cell_type": "code",
      "metadata": {
        "colab": {
          "base_uri": "https://localhost:8080/",
          "height": 283
        },
        "id": "O-9RJ7OI922l",
        "outputId": "50b7d838-f02a-4b72-8840-a8a4936b3aac"
      },
      "source": [
        "plt.plot(X_test3[0])"
      ],
      "execution_count": 116,
      "outputs": [
        {
          "output_type": "execute_result",
          "data": {
            "text/plain": [
              "[<matplotlib.lines.Line2D at 0x7f015042ef10>]"
            ]
          },
          "metadata": {},
          "execution_count": 116
        },
        {
          "output_type": "display_data",
          "data": {
            "image/png": "[encoded data removed]",
            "text/plain": [
              "<Figure size 432x288 with 1 Axes>"
            ]
          },
          "metadata": {
            "needs_background": "light"
          }
        }
      ]
    },
    {
      "cell_type": "code",
      "metadata": {
        "id": "NzsJI6Vt8cBI"
      },
      "source": [
        "res=model.predict(X_test3)"
      ],
      "execution_count": 117,
      "outputs": []
    },
    {
      "cell_type": "code",
      "metadata": {
        "id": "Dp6v2NhF-nZ0"
      },
      "source": [
        "result=[]\n",
        "cnt=0\n",
        "how=0\n",
        "for r in res:\n",
        "  cnt=cnt+1\n",
        "  if r>5e-1:\n",
        "    result.append(1)\n",
        "    how=how+1\n",
        "  else:\n",
        "    result.append(0)"
      ],
      "execution_count": 120,
      "outputs": []
    },
    {
      "cell_type": "code",
      "metadata": {
        "colab": {
          "base_uri": "https://localhost:8080/"
        },
        "id": "okbD9dbF-qGy",
        "outputId": "9ddcef0b-94c5-4bf3-968c-08238c82f91d"
      },
      "source": [
        "1-how/cnt"
      ],
      "execution_count": 122,
      "outputs": [
        {
          "output_type": "execute_result",
          "data": {
            "text/plain": [
              "0.6075848303393214"
            ]
          },
          "metadata": {},
          "execution_count": 122
        }
      ]
    },
    {
      "cell_type": "code",
      "metadata": {
        "colab": {
          "base_uri": "https://localhost:8080/"
        },
        "id": "LYjNhXpJigy1",
        "outputId": "576168c5-3207-4a47-e520-5a5b759c4da7"
      },
      "source": [
        "print(history.history['loss'])\n",
        "print(history.history['acc'])\n",
        "print(history.history['val_loss'])\n",
        "print(history.history['val_acc'])"
      ],
      "execution_count": null,
      "outputs": [
        {
          "output_type": "stream",
          "name": "stdout",
          "text": [
            "[0.5038845539093018, 0.06930586695671082, 0.01364158745855093, 0.0041107130236923695, 0.002175786765292287, 0.0012536223512142897, 0.0010405104840174317, 0.0005165446782484651, 0.00043668327271007, 0.0005708715762011707]\n",
            "[0.7492977380752563, 0.9827949404716492, 0.997542142868042, 0.9996488690376282, 1.0, 1.0, 1.0, 1.0, 1.0, 1.0]\n",
            "[0.13639649748802185, 0.01508862804621458, 0.0029445020481944084, 0.0012830012710765004, 0.0008874046616256237, 0.0005887983716093004, 0.0003798680554609746, 0.0003495957935228944, 0.00025297372485511005, 0.00048479100223630667]\n",
            "[0.9859550595283508, 0.9985954761505127, 1.0, 1.0, 1.0, 1.0, 1.0, 1.0, 1.0, 1.0]\n"
          ]
        }
      ]
    },
    {
      "cell_type": "code",
      "metadata": {
        "colab": {
          "base_uri": "https://localhost:8080/",
          "height": 279
        },
        "id": "1O_0MBgomlgb",
        "outputId": "49f91895-efa4-4f1f-9a3a-9b0323999ec9"
      },
      "source": [
        "plt.plot(history.history['loss'],label='loss')\n",
        "plt.plot(history.history['acc'],label='acc')\n",
        "plt.xlabel('epoch')\n",
        "plt.legend(['loss', 'acc'])\n",
        "plt.savefig('good.png')"
      ],
      "execution_count": null,
      "outputs": [
        {
          "output_type": "display_data",
          "data": {
            "image/png": "[encoded data removed]",
            "text/plain": [
              "<Figure size 432x288 with 1 Axes>"
            ]
          },
          "metadata": {
            "needs_background": "light"
          }
        }
      ]
    },
    {
      "cell_type": "code",
      "metadata": {
        "colab": {
          "base_uri": "https://localhost:8080/",
          "height": 279
        },
        "id": "Di3gVPOxj6xn",
        "outputId": "ece25a78-92e8-4e18-b8ed-01b31f413701"
      },
      "source": [
        "plt.plot(history.history['val_loss'],label='val_loss')\n",
        "plt.plot(history.history['val_acc'],label='val_acc')\n",
        "plt.xlabel('epoch')\n",
        "plt.legend(['val_loss', 'val_acc'])\n",
        "plt.savefig('goodval.png')"
      ],
      "execution_count": null,
      "outputs": [
        {
          "output_type": "display_data",
          "data": {
            "image/png": "[encoded data removed]",
            "text/plain": [
              "<Figure size 432x288 with 1 Axes>"
            ]
          },
          "metadata": {
            "needs_background": "light"
          }
        }
      ]
    },
    {
      "cell_type": "code",
      "metadata": {
        "id": "I_CHJkD7keSn"
      },
      "source": [
        "1"
      ],
      "execution_count": null,
      "outputs": []
    },
    {
      "cell_type": "markdown",
      "metadata": {
        "id": "8OXZw9mS2X78"
      },
      "source": [
        "-----------------mel re-----------------"
      ]
    },
    {
      "cell_type": "code",
      "metadata": {
        "id": "L85tLmuc6y4o"
      },
      "source": [
        ""
      ],
      "execution_count": null,
      "outputs": []
    },
    {
      "cell_type": "code",
      "metadata": {
        "id": "TLI3e1qS2ZlA"
      },
      "source": [
        "eeg = pd.read_csv('na_1.csv', sep=',', parse_dates=[0], header=None,\n",
        "                  names=['timestamp', 'raw'])"
      ],
      "execution_count": null,
      "outputs": []
    },
    {
      "cell_type": "code",
      "metadata": {
        "colab": {
          "base_uri": "https://localhost:8080/",
          "height": 265
        },
        "id": "caYwRp443TP2",
        "outputId": "cf7c4b82-887e-46eb-a7e4-05e91029963c"
      },
      "source": [
        "plt.plot(eeg['raw'])\n",
        "plt.savefig('eegplt.png')"
      ],
      "execution_count": null,
      "outputs": [
        {
          "output_type": "display_data",
          "data": {
            "image/png": "[encoded data removed]",
            "text/plain": [
              "<Figure size 432x288 with 1 Axes>"
            ]
          },
          "metadata": {
            "needs_background": "light"
          }
        }
      ]
    },
    {
      "cell_type": "code",
      "metadata": {
        "colab": {
          "base_uri": "https://localhost:8080/",
          "height": 269
        },
        "id": "o3KEhVwz2cEh",
        "outputId": "6b0b234d-1d3d-423a-c665-509dc79a1a4b"
      },
      "source": [
        "plt.specgram(eeg['raw'], Fs=8)\n",
        "plt.savefig('eegspec.png')"
      ],
      "execution_count": null,
      "outputs": [
        {
          "output_type": "display_data",
          "data": {
            "image/png": "[encoded data removed]",
            "text/plain": [
              "<Figure size 432x288 with 1 Axes>"
            ]
          },
          "metadata": {
            "needs_background": "light"
          }
        }
      ]
    },
    {
      "cell_type": "code",
      "metadata": {
        "id": "HHVRpbsZxPr4"
      },
      "source": [
        ""
      ],
      "execution_count": null,
      "outputs": []
    }
  ]
}